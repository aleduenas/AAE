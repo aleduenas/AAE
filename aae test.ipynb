{
 "cells": [
  {
   "cell_type": "code",
   "execution_count": 1,
   "id": "d6398dd4-5847-4e9a-a13f-3271c0713fe1",
   "metadata": {},
   "outputs": [],
   "source": [
    "import sys\n",
    "sys.path.append('/path/AL')\n",
    "\n",
    "import pandas as pd\n",
    "import numpy as np\n",
    "import torch\n",
    "import torch.nn as nn\n",
    "import torch.nn.functional as F\n",
    "from torch.utils.data import TensorDataset, DataLoader, Dataset\n",
    "import matplotlib.pyplot as plt\n",
    "from AAE_model import Adversarial_Auto_Encoder"
   ]
  },
  {
   "cell_type": "code",
   "execution_count": 2,
   "id": "3dafe5ff-cc53-4f01-b6b3-9aac6350c88a",
   "metadata": {},
   "outputs": [],
   "source": [
    "url = 'http://archive.ics.uci.edu/ml/machine-learning-databases/adult/adult.'\n",
    "train_url = url + 'data'\n",
    "test_url = url + 'test'\n",
    "\n",
    "#labels in the dataset\n",
    "names = [\"age\",\"workclass\",\"fnlwgt\",\"education\",\"education-num\",\n",
    "         \"marital-status\",\"occupation\",\"relationship\",\"race\",\"sex\",\n",
    "         \"capital-gain\",\"capital-loss\", \"hours-per-week\",\n",
    "         \"native-country\",\"income>50k\"]\n",
    "\n",
    "# download data\n",
    "train_df = pd.read_csv(train_url, names = names, index_col = False, comment = '|')\n",
    "test_df = pd.read_csv(test_url, names = names, index_col = False, comment = '|')"
   ]
  },
  {
   "cell_type": "code",
   "execution_count": 3,
   "id": "703e6a54-f146-45eb-af3f-891132d2f986",
   "metadata": {},
   "outputs": [],
   "source": [
    "# Cleaning data and getting rid of symbols and 'None' values\n",
    "train_df[train_df == '?'] = np.nan\n",
    "train_df[train_df == ' ?'] = np.nan\n",
    "train_df.dropna(inplace = True)\n",
    "\n",
    "test_df[test_df == '?'] = np.nan\n",
    "test_df[test_df == ' ?'] = np.nan\n",
    "test_df.dropna(inplace = True)"
   ]
  },
  {
   "cell_type": "code",
   "execution_count": 4,
   "id": "e256090b-1d33-40a7-a349-6d765a1a16d1",
   "metadata": {},
   "outputs": [],
   "source": [
    "# 'fnlwgt' is a counter for the number of repeated entries in the census, it has 0 correlation to \n",
    "# income so it can be discarded\n",
    "# education-num is a numerical representation of education with a 1.0 correlation to education \n",
    "# so it is discarded as well\n",
    "\n",
    "train_inputs = pd.get_dummies(train_df.drop(['income>50k', 'education-num', 'fnlwgt'], axis=1))\n",
    "test_inputs = pd.get_dummies(test_df.drop(['income>50k', 'education-num', 'fnlwgt'], axis=1))\n",
    "\n",
    "# Ensuring the dimensions are the same for the train and test sets\n",
    "extra_columns = list(set(train_inputs.columns) - set(test_inputs.columns))\n",
    "for c in extra_columns:\n",
    "    test_inputs[c] = 0\n",
    "\n",
    "\n",
    "\n",
    "# Creating labels from the dataset\n",
    "train_labels, _ = train_df['income>50k'].factorize()\n",
    "train_protected, _ = train_df['sex'].factorize() # male = 0, female = 1\n",
    "test_labels, _ = test_df['income>50k'].factorize()\n",
    "test_protected, _ = test_df['sex'].factorize() # male = 0, female = 1\n",
    "\n",
    "\n",
    "\n",
    "# Convert input samples and target labels to tensors\n",
    "train_inputs = F.normalize(torch.Tensor(train_inputs.values))\n",
    "train_labels = torch.Tensor(train_labels)\n",
    "train_protected = torch.Tensor(train_protected)\n",
    "\n",
    "\n",
    "test_inputs = F.normalize(torch.Tensor(test_inputs.values))\n",
    "test_labels = torch.Tensor(test_labels)\n",
    "test_protected = torch.Tensor(test_protected)\n",
    "\n",
    "\n",
    "# Create a dataset object that pairs the input samples and target labels\n",
    "train_dataset = TensorDataset(train_inputs, train_labels, train_protected)\n",
    "test_dataset = TensorDataset(test_inputs, test_labels, test_protected)\n",
    "\n",
    "\n",
    "# Dataloaders for training and testing\n",
    "dataloader = DataLoader(train_dataset, batch_size=32, shuffle=True)\n",
    "test_loader = DataLoader(test_dataset, batch_size=32, shuffle=True)"
   ]
  },
  {
   "cell_type": "code",
   "execution_count": 5,
   "id": "cb6f8485-5db7-4e44-b6b3-6170afcdaea6",
   "metadata": {},
   "outputs": [],
   "source": [
    "# training settings\n",
    "# input shape for Auto Encoder\n",
    "input_dim = train_inputs.shape[1]\n",
    "# layer size for AE\n",
    "hidden_dim = 100\n",
    "# Decode down size\n",
    "encoded_dim = 10\n",
    "# Check if cuda processing is available\n",
    "cuda = torch.cuda.is_available()\n",
    "\n",
    "alpha = 0.05\n",
    "beta = np.random.randint(1,50,1)\n",
    "gamma = np.random.randint(1,10,1)\n",
    "parameters = [(alpha, beta[i], gamma[i]) for i in range(len(beta))]\n",
    "\n",
    "epochs = 100"
   ]
  },
  {
   "cell_type": "code",
   "execution_count": 7,
   "id": "57c6f8f8-ef86-474d-aea8-8ffb2e3998eb",
   "metadata": {},
   "outputs": [
    {
     "ename": "AttributeError",
     "evalue": "'Model' object has no attribute 'Encoder'",
     "output_type": "error",
     "traceback": [
      "\u001b[1;31m---------------------------------------------------------------------------\u001b[0m",
      "\u001b[1;31mAttributeError\u001b[0m                            Traceback (most recent call last)",
      "Input \u001b[1;32mIn [7]\u001b[0m, in \u001b[0;36m<cell line: 7>\u001b[1;34m()\u001b[0m\n\u001b[0;32m      6\u001b[0m i \u001b[38;5;241m=\u001b[39m \u001b[38;5;241m0\u001b[39m \n\u001b[0;32m      7\u001b[0m \u001b[38;5;28;01mfor\u001b[39;00m params \u001b[38;5;129;01min\u001b[39;00m parameters:\n\u001b[1;32m----> 8\u001b[0m     model \u001b[38;5;241m=\u001b[39m \u001b[43mAAE\u001b[49m\u001b[38;5;241;43m.\u001b[39;49m\u001b[43mModel\u001b[49m\u001b[43m(\u001b[49m\u001b[43mparams\u001b[49m\u001b[43m[\u001b[49m\u001b[38;5;241;43m0\u001b[39;49m\u001b[43m]\u001b[49m\u001b[43m,\u001b[49m\u001b[43mparams\u001b[49m\u001b[43m[\u001b[49m\u001b[38;5;241;43m1\u001b[39;49m\u001b[43m]\u001b[49m\u001b[43m,\u001b[49m\u001b[43mparams\u001b[49m\u001b[43m[\u001b[49m\u001b[38;5;241;43m2\u001b[39;49m\u001b[43m]\u001b[49m\u001b[43m)\u001b[49m\n\u001b[0;32m      9\u001b[0m     model \u001b[38;5;241m=\u001b[39m AAE\u001b[38;5;241m.\u001b[39mtrain_model(epochs, dataloader, model)\n\u001b[0;32m     10\u001b[0m     results \u001b[38;5;241m=\u001b[39m AAE\u001b[38;5;241m.\u001b[39mevaluate_model(testloader, model)\n",
      "File \u001b[1;32mD:\\python\\AL\\AAE_model.py:101\u001b[0m, in \u001b[0;36mAdversarial_Auto_Encoder.Model.__init__\u001b[1;34m(self, alpha, beta, gamma)\u001b[0m\n\u001b[0;32m     98\u001b[0m \u001b[38;5;28mself\u001b[39m\u001b[38;5;241m.\u001b[39mgamma \u001b[38;5;241m=\u001b[39m gamma\n\u001b[0;32m    100\u001b[0m \u001b[38;5;66;03m# Modules\u001b[39;00m\n\u001b[1;32m--> 101\u001b[0m \u001b[38;5;28mself\u001b[39m\u001b[38;5;241m.\u001b[39mEnc \u001b[38;5;241m=\u001b[39m \u001b[38;5;28;43mself\u001b[39;49m\u001b[38;5;241;43m.\u001b[39;49m\u001b[43mEncoder\u001b[49m()\n\u001b[0;32m    102\u001b[0m \u001b[38;5;28mself\u001b[39m\u001b[38;5;241m.\u001b[39mDec \u001b[38;5;241m=\u001b[39m \u001b[38;5;28mself\u001b[39m\u001b[38;5;241m.\u001b[39mDecoder()\n\u001b[0;32m    103\u001b[0m \u001b[38;5;28mself\u001b[39m\u001b[38;5;241m.\u001b[39mPred \u001b[38;5;241m=\u001b[39m \u001b[38;5;28mself\u001b[39m\u001b[38;5;241m.\u001b[39mPredictor()\n",
      "\u001b[1;31mAttributeError\u001b[0m: 'Model' object has no attribute 'Encoder'"
     ]
    }
   ],
   "source": [
    "# Instantiate model\n",
    "\n",
    "AAE = Adversarial_Auto_Encoder(input_dim, hidden_dim, encoded_dim)\n",
    "\n",
    "log = np.zeros((len(parameters),5))\n",
    "i = 0 \n",
    "for params in parameters:\n",
    "    model = AAE.Model(params[0],params[1],params[2])\n",
    "    model = AAE.train_model(epochs, dataloader, model)\n",
    "    results = AAE.evaluate_model(testloader, model)\n",
    "    log[i] = [results[0],results[1],results[2], params[0],params[1],params[2]]\n",
    "    print(f'''Results for model with hyperparameters:\n",
    "    alpha = {log[i][3]}, beta = {log[i][4]}, gamma = {log[i][5]}\n",
    "    \n",
    "y_t_delta       = {log[i][0]},\n",
    "discrimination  = {log[i][1]},\n",
    "accuracy        = {log[i][2]}\n",
    "''')\n",
    "                    "
   ]
  },
  {
   "cell_type": "code",
   "execution_count": null,
   "id": "50a0c396-c9ea-40ed-91c5-34d468fba2e8",
   "metadata": {},
   "outputs": [],
   "source": []
  }
 ],
 "metadata": {
  "kernelspec": {
   "display_name": "Python 3 (ipykernel)",
   "language": "python",
   "name": "python3"
  },
  "language_info": {
   "codemirror_mode": {
    "name": "ipython",
    "version": 3
   },
   "file_extension": ".py",
   "mimetype": "text/x-python",
   "name": "python",
   "nbconvert_exporter": "python",
   "pygments_lexer": "ipython3",
   "version": "3.10.3"
  }
 },
 "nbformat": 4,
 "nbformat_minor": 5
}
